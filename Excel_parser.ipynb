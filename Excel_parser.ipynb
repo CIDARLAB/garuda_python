{
 "cells": [
  {
   "cell_type": "code",
   "execution_count": 1,
   "metadata": {
    "collapsed": true
   },
   "outputs": [],
   "source": [
    "import xlrd\n",
    "import numpy as np\n",
    "import matplotlib.pyplot as plt\n",
    "%matplotlib nbagg\n",
    "import glob\n",
    "import os\n",
    "from os.path import join\n",
    "from os.path import basename\n",
    "import decimal"
   ]
  },
  {
   "cell_type": "code",
   "execution_count": 2,
   "metadata": {
    "collapsed": false
   },
   "outputs": [],
   "source": [
    "workbook = xlrd.open_workbook(\"/Users/marcia/Documents/ec500_D/Cello_data_predictions (1).xlsx\")\n",
    "sheet = workbook.sheet_by_index(0)"
   ]
  },
  {
   "cell_type": "code",
   "execution_count": 3,
   "metadata": {
    "collapsed": false
   },
   "outputs": [],
   "source": [
    "s_name = workbook.sheet_names()\n",
    "for n_sheet in range(workbook.nsheets):\n",
    "    sheet = workbook.sheet_by_index(n_sheet)\n",
    "    Exp = np.asarray([[sheet.cell_value(r,c) if (sheet.cell_type(r, c)==2) else 0.0 for c in range(21,sheet.ncols)] for r in range(0,250)])\n",
    "    np.savetxt(\"%s_exp.csv\" %s_name[n_sheet], Exp, delimiter=\",\")\n",
    "    Sim = np.asarray([[sheet.cell_value(r,c) if (sheet.cell_type(r, c)==2) else 0.0 for c in range(3,11)] for r in range(254,sheet.nrows)])\n",
    "    np.savetxt(\"%s_sim.csv\" %s_name[n_sheet], Sim, delimiter=\",\")\n",
    "    "
   ]
  },
  {
   "cell_type": "code",
   "execution_count": null,
   "metadata": {
    "collapsed": true
   },
   "outputs": [],
   "source": []
  }
 ],
 "metadata": {
  "kernelspec": {
   "display_name": "Python [Root]",
   "language": "python",
   "name": "Python [Root]"
  },
  "language_info": {
   "codemirror_mode": {
    "name": "ipython",
    "version": 3
   },
   "file_extension": ".py",
   "mimetype": "text/x-python",
   "name": "python",
   "nbconvert_exporter": "python",
   "pygments_lexer": "ipython3",
   "version": "3.5.1"
  }
 },
 "nbformat": 4,
 "nbformat_minor": 0
}
