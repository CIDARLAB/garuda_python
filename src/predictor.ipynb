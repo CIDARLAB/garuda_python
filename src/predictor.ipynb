{
 "cells": [
  {
   "cell_type": "markdown",
   "metadata": {},
   "source": [
    "# Python Script to Predict test Vectors"
   ]
  },
  {
   "cell_type": "code",
   "execution_count": 1,
   "metadata": {
    "collapsed": false
   },
   "outputs": [
    {
     "name": "stdout",
     "output_type": "stream",
     "text": [
      "Automatically created module for IPython interactive environment\n"
     ]
    }
   ],
   "source": [
    "%matplotlib inline\n",
    "print(__doc__)\n",
    "\n",
    "import itertools\n",
    "import numpy as np\n",
    "import matplotlib.pyplot as plt\n",
    "import scipy \n",
    "from sklearn.externals import joblib\n",
    "import os"
   ]
  },
  {
   "cell_type": "markdown",
   "metadata": {},
   "source": [
    "# Function convert test vector to desirable formate"
   ]
  },
  {
   "cell_type": "code",
   "execution_count": 2,
   "metadata": {
    "collapsed": true
   },
   "outputs": [],
   "source": [
    "def format_test_vector(test_vector, feature_name):\n",
    "    test_data = (np.in1d(feature_name,test_vector)).astype(int)\n",
    "    return test_data"
   ]
  },
  {
   "cell_type": "markdown",
   "metadata": {},
   "source": [
    "# Function to get predictions"
   ]
  },
  {
   "cell_type": "code",
   "execution_count": 3,
   "metadata": {
    "collapsed": false
   },
   "outputs": [],
   "source": [
    "def get_prediction(test_data, model, class_name):\n",
    "    pred_label = np.empty((0), np.str_)\n",
    "    if len(test_data.shape) == 1:\n",
    "        test_data = test_data.reshape(1, -1)\n",
    "    pred = model.predict(test_data)\n",
    "    pred_prob = np.max(model.predict_proba(test_data), axis=1)\n",
    "    for i in range(len(pred)):\n",
    "        pred_label = np.append(pred_label, class_name[pred[i]])\n",
    "    return pred_label, pred_prob"
   ]
  },
  {
   "cell_type": "markdown",
   "metadata": {},
   "source": [
    "# Load test data"
   ]
  },
  {
   "cell_type": "code",
   "execution_count": 4,
   "metadata": {
    "collapsed": true
   },
   "outputs": [],
   "source": [
    "#test_data = "
   ]
  },
  {
   "cell_type": "markdown",
   "metadata": {},
   "source": [
    "# Import Feature names and Class names"
   ]
  },
  {
   "cell_type": "code",
   "execution_count": 5,
   "metadata": {
    "collapsed": false
   },
   "outputs": [],
   "source": [
    "model_name = np.load(os.path.join(os.getcwd() ,'../model/feature_class_name.npz'))\n",
    "feature_name = model_name['arr_0']\n",
    "class_name = model_name['arr_1']"
   ]
  },
  {
   "cell_type": "markdown",
   "metadata": {
    "collapsed": false
   },
   "source": [
    "# Load the trained Linear SVM models"
   ]
  },
  {
   "cell_type": "code",
   "execution_count": 6,
   "metadata": {
    "collapsed": false
   },
   "outputs": [],
   "source": [
    "# classfier without weighting\n",
    "clf = joblib.load(os.path.join(os.getcwd() ,'../model/classifier_no_weighting.pkl'))\n",
    "# classfier class weighting\n",
    "wclf = joblib.load(os.path.join(os.getcwd() ,'../model/classifier_class_weighting.pkl'))\n",
    "# classfier sample weighting\n",
    "wsclf = joblib.load(os.path.join(os.getcwd() ,'../model/classifier_sample_weighting.pkl'))"
   ]
  },
  {
   "cell_type": "markdown",
   "metadata": {},
   "source": [
    "# Sample testing (commented for now)"
   ]
  },
  {
   "cell_type": "code",
   "execution_count": 8,
   "metadata": {
    "collapsed": true
   },
   "outputs": [],
   "source": [
    "# test_1 = np.random.choice(feature_name, size=5, replace = False)\n",
    "test_2 = np.random.choice(feature_name, size=3, replace = False)"
   ]
  },
  {
   "cell_type": "code",
   "execution_count": 9,
   "metadata": {
    "collapsed": false
   },
   "outputs": [
    {
     "data": {
      "text/plain": [
       "array([' A1_AmtR', ' P1_PhlF', ' E1_BetI'], \n",
       "      dtype='<U33')"
      ]
     },
     "execution_count": 9,
     "metadata": {},
     "output_type": "execute_result"
    }
   ],
   "source": [
    "test_2"
   ]
  },
  {
   "cell_type": "code",
   "execution_count": 7,
   "metadata": {
    "collapsed": false
   },
   "outputs": [],
   "source": [
    "# test_1 = format_test_vector(test_1, feature_name)\n",
    "# # test = test.reshape(,20)\n",
    "# test= np.append(test_1, format_test_vector(test_2, feature_name),axis=0)"
   ]
  },
  {
   "cell_type": "code",
   "execution_count": 10,
   "metadata": {
    "collapsed": false
   },
   "outputs": [
    {
     "data": {
      "text/plain": [
       "array([1, 0, 0, 0, 1, 0, 0, 0, 0, 0, 1, 0, 0, 0, 0, 0, 0, 0, 0, 0])"
      ]
     },
     "execution_count": 10,
     "metadata": {},
     "output_type": "execute_result"
    }
   ],
   "source": [
    "format_test_vector(test_2, feature_name)"
   ]
  },
  {
   "cell_type": "code",
   "execution_count": 9,
   "metadata": {
    "collapsed": false
   },
   "outputs": [],
   "source": [
    "# test= test.reshape(2,20)"
   ]
  },
  {
   "cell_type": "code",
   "execution_count": 39,
   "metadata": {
    "collapsed": false
   },
   "outputs": [
    {
     "name": "stdout",
     "output_type": "stream",
     "text": [
      "(array(['Fail', 'Pass'], \n",
      "      dtype='<U4'), array([ 0.77245611,  0.68519074]))\n"
     ]
    }
   ],
   "source": [
    "# print(get_prediction(test, clf, class_name))"
   ]
  },
  {
   "cell_type": "code",
   "execution_count": 27,
   "metadata": {
    "collapsed": false
   },
   "outputs": [
    {
     "name": "stdout",
     "output_type": "stream",
     "text": [
      "(array(['Pass', 'Pass'], \n",
      "      dtype='<U4'), array([[ 0.27684378,  0.72315622],\n",
      "       [ 0.25066913,  0.74933087]]))\n"
     ]
    }
   ],
   "source": [
    "# print(get_prediction(test, wclf, class_name))"
   ]
  },
  {
   "cell_type": "code",
   "execution_count": 28,
   "metadata": {
    "collapsed": false
   },
   "outputs": [
    {
     "name": "stdout",
     "output_type": "stream",
     "text": [
      "(array(['Pass', 'Pass'], \n",
      "      dtype='<U4'), array([[ 0.27511584,  0.72488416],\n",
      "       [ 0.2436075 ,  0.7563925 ]]))\n"
     ]
    }
   ],
   "source": [
    "# print(get_prediction(test, wsclf, class_name))"
   ]
  },
  {
   "cell_type": "code",
   "execution_count": 40,
   "metadata": {
    "collapsed": false
   },
   "outputs": [
    {
     "name": "stdout",
     "output_type": "stream",
     "text": [
      "(array(['Fail'], \n",
      "      dtype='<U4'), array([ 0.77245611]))\n"
     ]
    }
   ],
   "source": [
    "# print(get_prediction(test_1, clf, class_name))"
   ]
  },
  {
   "cell_type": "code",
   "execution_count": 31,
   "metadata": {
    "collapsed": false
   },
   "outputs": [
    {
     "name": "stdout",
     "output_type": "stream",
     "text": [
      "(array(['Pass'], \n",
      "      dtype='<U4'), array([[ 0.29025113,  0.70974887]]))\n"
     ]
    }
   ],
   "source": [
    "# print(get_prediction(test_1, wclf, class_name))"
   ]
  },
  {
   "cell_type": "code",
   "execution_count": 32,
   "metadata": {
    "collapsed": false
   },
   "outputs": [
    {
     "name": "stdout",
     "output_type": "stream",
     "text": [
      "(array(['Pass'], \n",
      "      dtype='<U4'), array([[ 0.28320984,  0.71679016]]))\n"
     ]
    }
   ],
   "source": [
    "# print(get_prediction(test_1, wsclf, class_name))"
   ]
  },
  {
   "cell_type": "code",
   "execution_count": 35,
   "metadata": {
    "collapsed": false
   },
   "outputs": [],
   "source": [
    "# x = np.array([[ 0.27511584,  0.72488416],\n",
    "#        [ 0.2436075 ,  0.7563925 ]])"
   ]
  }
 ],
 "metadata": {
  "anaconda-cloud": {},
  "kernelspec": {
   "display_name": "Python [Root]",
   "language": "python",
   "name": "Python [Root]"
  },
  "language_info": {
   "codemirror_mode": {
    "name": "ipython",
    "version": 3
   },
   "file_extension": ".py",
   "mimetype": "text/x-python",
   "name": "python",
   "nbconvert_exporter": "python",
   "pygments_lexer": "ipython3",
   "version": "3.5.1"
  }
 },
 "nbformat": 4,
 "nbformat_minor": 0
}
